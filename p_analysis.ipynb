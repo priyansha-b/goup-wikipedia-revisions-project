{
 "cells": [
  {
   "cell_type": "markdown",
   "metadata": {},
   "source": [
    "# Loading packages and checking venv and working directory "
   ]
  },
  {
   "cell_type": "code",
   "execution_count": 1,
   "metadata": {},
   "outputs": [],
   "source": [
    "import os\n",
    "import sys\n",
    "import pandas as pd\n",
    "import pyarrow as pa\n",
    "import matplotlib.pyplot as plt"
   ]
  },
  {
   "cell_type": "code",
   "execution_count": 2,
   "metadata": {},
   "outputs": [
    {
     "name": "stdout",
     "output_type": "stream",
     "text": [
      "/Users/priyansha/Documents/Oxford/Term1/SDS_in_python/Week02/goup-wikipedia-revisions-project/.venv\n"
     ]
    }
   ],
   "source": [
    "# Checking correct environment \n",
    "print(sys.prefix)"
   ]
  },
  {
   "cell_type": "code",
   "execution_count": 3,
   "metadata": {},
   "outputs": [
    {
     "data": {
      "text/plain": [
       "'/Users/priyansha/Documents/Oxford/Term1/SDS_in_python/Week02/goup-wikipedia-revisions-project'"
      ]
     },
     "execution_count": 3,
     "metadata": {},
     "output_type": "execute_result"
    }
   ],
   "source": [
    "# Checking current working directory\n",
    "os.getcwd()"
   ]
  },
  {
   "cell_type": "markdown",
   "metadata": {},
   "source": [
    "# Loading and displaying data, data types, and data shape"
   ]
  },
  {
   "cell_type": "code",
   "execution_count": 4,
   "metadata": {},
   "outputs": [],
   "source": [
    "# Loading data \n",
    "naomi = pd.read_feather(\"oii-fsds-wikipedia-main/DataFrames/Naomi Klein.feather\")\n",
    "greta = pd.read_feather(\"oii-fsds-wikipedia-main/DataFrames/Greta Thunberg.feather\")"
   ]
  },
  {
   "cell_type": "code",
   "execution_count": 5,
   "metadata": {},
   "outputs": [
    {
     "data": {
      "text/html": [
       "<div>\n",
       "<style scoped>\n",
       "    .dataframe tbody tr th:only-of-type {\n",
       "        vertical-align: middle;\n",
       "    }\n",
       "\n",
       "    .dataframe tbody tr th {\n",
       "        vertical-align: top;\n",
       "    }\n",
       "\n",
       "    .dataframe thead th {\n",
       "        text-align: right;\n",
       "    }\n",
       "</style>\n",
       "<table border=\"1\" class=\"dataframe\">\n",
       "  <thead>\n",
       "    <tr style=\"text-align: right;\">\n",
       "      <th></th>\n",
       "      <th>revision_id</th>\n",
       "      <th>timestamp</th>\n",
       "      <th>username</th>\n",
       "      <th>userid</th>\n",
       "      <th>comment</th>\n",
       "      <th>text_length</th>\n",
       "      <th>year</th>\n",
       "      <th>month</th>\n",
       "    </tr>\n",
       "  </thead>\n",
       "  <tbody>\n",
       "    <tr>\n",
       "      <th>197</th>\n",
       "      <td>1253256754</td>\n",
       "      <td>2024-10-25 02:32:43+00:00</td>\n",
       "      <td>Wellington Bay</td>\n",
       "      <td>43059617</td>\n",
       "      <td>None</td>\n",
       "      <td>75727</td>\n",
       "      <td>2024</td>\n",
       "      <td>10</td>\n",
       "    </tr>\n",
       "    <tr>\n",
       "      <th>196</th>\n",
       "      <td>1253256624</td>\n",
       "      <td>2024-10-25 02:31:43+00:00</td>\n",
       "      <td>Wellington Bay</td>\n",
       "      <td>43059617</td>\n",
       "      <td>/* Environmentalism */</td>\n",
       "      <td>75731</td>\n",
       "      <td>2024</td>\n",
       "      <td>10</td>\n",
       "    </tr>\n",
       "    <tr>\n",
       "      <th>201</th>\n",
       "      <td>1253256302</td>\n",
       "      <td>2024-10-25 02:29:23+00:00</td>\n",
       "      <td>Wellington Bay</td>\n",
       "      <td>43059617</td>\n",
       "      <td>None</td>\n",
       "      <td>75727</td>\n",
       "      <td>2024</td>\n",
       "      <td>10</td>\n",
       "    </tr>\n",
       "    <tr>\n",
       "      <th>202</th>\n",
       "      <td>1253255735</td>\n",
       "      <td>2024-10-25 02:25:01+00:00</td>\n",
       "      <td>Wellington Bay</td>\n",
       "      <td>43059617</td>\n",
       "      <td>None</td>\n",
       "      <td>75727</td>\n",
       "      <td>2024</td>\n",
       "      <td>10</td>\n",
       "    </tr>\n",
       "    <tr>\n",
       "      <th>199</th>\n",
       "      <td>1253255606</td>\n",
       "      <td>2024-10-25 02:24:13+00:00</td>\n",
       "      <td>Wellington Bay</td>\n",
       "      <td>43059617</td>\n",
       "      <td>Parents</td>\n",
       "      <td>75724</td>\n",
       "      <td>2024</td>\n",
       "      <td>10</td>\n",
       "    </tr>\n",
       "    <tr>\n",
       "      <th>...</th>\n",
       "      <td>...</td>\n",
       "      <td>...</td>\n",
       "      <td>...</td>\n",
       "      <td>...</td>\n",
       "      <td>...</td>\n",
       "      <td>...</td>\n",
       "      <td>...</td>\n",
       "      <td>...</td>\n",
       "    </tr>\n",
       "    <tr>\n",
       "      <th>2356</th>\n",
       "      <td>658</td>\n",
       "      <td>2002-01-27 09:17:25+00:00</td>\n",
       "      <td>213.253.39.xxx</td>\n",
       "      <td>0</td>\n",
       "      <td>two one-sentence paras</td>\n",
       "      <td>233</td>\n",
       "      <td>2002</td>\n",
       "      <td>01</td>\n",
       "    </tr>\n",
       "    <tr>\n",
       "      <th>2358</th>\n",
       "      <td>543</td>\n",
       "      <td>2002-01-27 06:27:28+00:00</td>\n",
       "      <td>213.253.39.xxx</td>\n",
       "      <td>0</td>\n",
       "      <td>linked manifesto</td>\n",
       "      <td>231</td>\n",
       "      <td>2002</td>\n",
       "      <td>01</td>\n",
       "    </tr>\n",
       "    <tr>\n",
       "      <th>2354</th>\n",
       "      <td>511</td>\n",
       "      <td>2002-01-27 05:26:14+00:00</td>\n",
       "      <td>Peter Winnberg</td>\n",
       "      <td>17</td>\n",
       "      <td>Added activist</td>\n",
       "      <td>227</td>\n",
       "      <td>2002</td>\n",
       "      <td>01</td>\n",
       "    </tr>\n",
       "    <tr>\n",
       "      <th>2355</th>\n",
       "      <td>505</td>\n",
       "      <td>2002-01-27 05:16:14+00:00</td>\n",
       "      <td>213.253.39.xxx</td>\n",
       "      <td>0</td>\n",
       "      <td>'female writer' - no, she's a 'Canadian journa...</td>\n",
       "      <td>217</td>\n",
       "      <td>2002</td>\n",
       "      <td>01</td>\n",
       "    </tr>\n",
       "    <tr>\n",
       "      <th>2357</th>\n",
       "      <td>487</td>\n",
       "      <td>2002-01-27 04:29:12+00:00</td>\n",
       "      <td>Conversion script</td>\n",
       "      <td>1226483</td>\n",
       "      <td>Automated conversion</td>\n",
       "      <td>200</td>\n",
       "      <td>2002</td>\n",
       "      <td>01</td>\n",
       "    </tr>\n",
       "  </tbody>\n",
       "</table>\n",
       "<p>2426 rows × 8 columns</p>\n",
       "</div>"
      ],
      "text/plain": [
       "     revision_id                 timestamp           username    userid  \\\n",
       "197   1253256754 2024-10-25 02:32:43+00:00     Wellington Bay  43059617   \n",
       "196   1253256624 2024-10-25 02:31:43+00:00     Wellington Bay  43059617   \n",
       "201   1253256302 2024-10-25 02:29:23+00:00     Wellington Bay  43059617   \n",
       "202   1253255735 2024-10-25 02:25:01+00:00     Wellington Bay  43059617   \n",
       "199   1253255606 2024-10-25 02:24:13+00:00     Wellington Bay  43059617   \n",
       "...          ...                       ...                ...       ...   \n",
       "2356         658 2002-01-27 09:17:25+00:00     213.253.39.xxx         0   \n",
       "2358         543 2002-01-27 06:27:28+00:00     213.253.39.xxx         0   \n",
       "2354         511 2002-01-27 05:26:14+00:00     Peter Winnberg        17   \n",
       "2355         505 2002-01-27 05:16:14+00:00     213.253.39.xxx         0   \n",
       "2357         487 2002-01-27 04:29:12+00:00  Conversion script   1226483   \n",
       "\n",
       "                                                comment  text_length  year  \\\n",
       "197                                                None        75727  2024   \n",
       "196                              /* Environmentalism */        75731  2024   \n",
       "201                                                None        75727  2024   \n",
       "202                                                None        75727  2024   \n",
       "199                                             Parents        75724  2024   \n",
       "...                                                 ...          ...   ...   \n",
       "2356                             two one-sentence paras          233  2002   \n",
       "2358                                   linked manifesto          231  2002   \n",
       "2354                                     Added activist          227  2002   \n",
       "2355  'female writer' - no, she's a 'Canadian journa...          217  2002   \n",
       "2357                               Automated conversion          200  2002   \n",
       "\n",
       "     month  \n",
       "197     10  \n",
       "196     10  \n",
       "201     10  \n",
       "202     10  \n",
       "199     10  \n",
       "...    ...  \n",
       "2356    01  \n",
       "2358    01  \n",
       "2354    01  \n",
       "2355    01  \n",
       "2357    01  \n",
       "\n",
       "[2426 rows x 8 columns]"
      ]
     },
     "metadata": {},
     "output_type": "display_data"
    },
    {
     "data": {
      "text/html": [
       "<div>\n",
       "<style scoped>\n",
       "    .dataframe tbody tr th:only-of-type {\n",
       "        vertical-align: middle;\n",
       "    }\n",
       "\n",
       "    .dataframe tbody tr th {\n",
       "        vertical-align: top;\n",
       "    }\n",
       "\n",
       "    .dataframe thead th {\n",
       "        text-align: right;\n",
       "    }\n",
       "</style>\n",
       "<table border=\"1\" class=\"dataframe\">\n",
       "  <thead>\n",
       "    <tr style=\"text-align: right;\">\n",
       "      <th></th>\n",
       "      <th>revision_id</th>\n",
       "      <th>timestamp</th>\n",
       "      <th>username</th>\n",
       "      <th>userid</th>\n",
       "      <th>comment</th>\n",
       "      <th>text_length</th>\n",
       "      <th>year</th>\n",
       "      <th>month</th>\n",
       "    </tr>\n",
       "  </thead>\n",
       "  <tbody>\n",
       "    <tr>\n",
       "      <th>329</th>\n",
       "      <td>1252064275</td>\n",
       "      <td>2024-10-19 16:11:21+00:00</td>\n",
       "      <td>Wabbuh</td>\n",
       "      <td>48227547</td>\n",
       "      <td>None</td>\n",
       "      <td>258902</td>\n",
       "      <td>2024</td>\n",
       "      <td>10</td>\n",
       "    </tr>\n",
       "    <tr>\n",
       "      <th>338</th>\n",
       "      <td>1250072169</td>\n",
       "      <td>2024-10-08 09:45:25+00:00</td>\n",
       "      <td>CRau080</td>\n",
       "      <td>33923477</td>\n",
       "      <td>/* Pro-Palestinian activism */ Tweet apparentl...</td>\n",
       "      <td>258909</td>\n",
       "      <td>2024</td>\n",
       "      <td>10</td>\n",
       "    </tr>\n",
       "    <tr>\n",
       "      <th>339</th>\n",
       "      <td>1250071453</td>\n",
       "      <td>2024-10-08 09:37:50+00:00</td>\n",
       "      <td>CRau080</td>\n",
       "      <td>33923477</td>\n",
       "      <td>/* Pro-Palestinian activism */ ce</td>\n",
       "      <td>258910</td>\n",
       "      <td>2024</td>\n",
       "      <td>10</td>\n",
       "    </tr>\n",
       "    <tr>\n",
       "      <th>343</th>\n",
       "      <td>1250069135</td>\n",
       "      <td>2024-10-08 09:15:14+00:00</td>\n",
       "      <td>CRau080</td>\n",
       "      <td>33923477</td>\n",
       "      <td>/* Pro-Palestinian acitivism */ misspelling in...</td>\n",
       "      <td>258911</td>\n",
       "      <td>2024</td>\n",
       "      <td>10</td>\n",
       "    </tr>\n",
       "    <tr>\n",
       "      <th>330</th>\n",
       "      <td>1250069064</td>\n",
       "      <td>2024-10-08 09:14:40+00:00</td>\n",
       "      <td>CRau080</td>\n",
       "      <td>33923477</td>\n",
       "      <td>/* Pro-Palestinian acitivism */ ce</td>\n",
       "      <td>258912</td>\n",
       "      <td>2024</td>\n",
       "      <td>10</td>\n",
       "    </tr>\n",
       "    <tr>\n",
       "      <th>...</th>\n",
       "      <td>...</td>\n",
       "      <td>...</td>\n",
       "      <td>...</td>\n",
       "      <td>...</td>\n",
       "      <td>...</td>\n",
       "      <td>...</td>\n",
       "      <td>...</td>\n",
       "      <td>...</td>\n",
       "    </tr>\n",
       "    <tr>\n",
       "      <th>4851</th>\n",
       "      <td>871636032</td>\n",
       "      <td>2018-12-02 13:09:10+00:00</td>\n",
       "      <td>Gfosankar</td>\n",
       "      <td>17106820</td>\n",
       "      <td>Expand</td>\n",
       "      <td>1417</td>\n",
       "      <td>2018</td>\n",
       "      <td>12</td>\n",
       "    </tr>\n",
       "    <tr>\n",
       "      <th>4837</th>\n",
       "      <td>871595450</td>\n",
       "      <td>2018-12-02 04:39:13+00:00</td>\n",
       "      <td>Gfosankar</td>\n",
       "      <td>17106820</td>\n",
       "      <td>/* top */</td>\n",
       "      <td>1019</td>\n",
       "      <td>2018</td>\n",
       "      <td>12</td>\n",
       "    </tr>\n",
       "    <tr>\n",
       "      <th>4824</th>\n",
       "      <td>871503251</td>\n",
       "      <td>2018-12-01 14:41:23+00:00</td>\n",
       "      <td>Gfosankar</td>\n",
       "      <td>17106820</td>\n",
       "      <td>Life</td>\n",
       "      <td>1012</td>\n",
       "      <td>2018</td>\n",
       "      <td>12</td>\n",
       "    </tr>\n",
       "    <tr>\n",
       "      <th>4888</th>\n",
       "      <td>871498917</td>\n",
       "      <td>2018-12-01 14:00:18+00:00</td>\n",
       "      <td>Gfosankar</td>\n",
       "      <td>17106820</td>\n",
       "      <td>added [[Category:Living people]] using [[WP:HC...</td>\n",
       "      <td>521</td>\n",
       "      <td>2018</td>\n",
       "      <td>12</td>\n",
       "    </tr>\n",
       "    <tr>\n",
       "      <th>4869</th>\n",
       "      <td>871498596</td>\n",
       "      <td>2018-12-01 13:57:13+00:00</td>\n",
       "      <td>Gfosankar</td>\n",
       "      <td>17106820</td>\n",
       "      <td>start as stub</td>\n",
       "      <td>493</td>\n",
       "      <td>2018</td>\n",
       "      <td>12</td>\n",
       "    </tr>\n",
       "  </tbody>\n",
       "</table>\n",
       "<p>4905 rows × 8 columns</p>\n",
       "</div>"
      ],
      "text/plain": [
       "     revision_id                 timestamp   username    userid  \\\n",
       "329   1252064275 2024-10-19 16:11:21+00:00     Wabbuh  48227547   \n",
       "338   1250072169 2024-10-08 09:45:25+00:00    CRau080  33923477   \n",
       "339   1250071453 2024-10-08 09:37:50+00:00    CRau080  33923477   \n",
       "343   1250069135 2024-10-08 09:15:14+00:00    CRau080  33923477   \n",
       "330   1250069064 2024-10-08 09:14:40+00:00    CRau080  33923477   \n",
       "...          ...                       ...        ...       ...   \n",
       "4851   871636032 2018-12-02 13:09:10+00:00  Gfosankar  17106820   \n",
       "4837   871595450 2018-12-02 04:39:13+00:00  Gfosankar  17106820   \n",
       "4824   871503251 2018-12-01 14:41:23+00:00  Gfosankar  17106820   \n",
       "4888   871498917 2018-12-01 14:00:18+00:00  Gfosankar  17106820   \n",
       "4869   871498596 2018-12-01 13:57:13+00:00  Gfosankar  17106820   \n",
       "\n",
       "                                                comment  text_length  year  \\\n",
       "329                                                None       258902  2024   \n",
       "338   /* Pro-Palestinian activism */ Tweet apparentl...       258909  2024   \n",
       "339                   /* Pro-Palestinian activism */ ce       258910  2024   \n",
       "343   /* Pro-Palestinian acitivism */ misspelling in...       258911  2024   \n",
       "330                  /* Pro-Palestinian acitivism */ ce       258912  2024   \n",
       "...                                                 ...          ...   ...   \n",
       "4851                                             Expand         1417  2018   \n",
       "4837                                          /* top */         1019  2018   \n",
       "4824                                               Life         1012  2018   \n",
       "4888  added [[Category:Living people]] using [[WP:HC...          521  2018   \n",
       "4869                                      start as stub          493  2018   \n",
       "\n",
       "     month  \n",
       "329     10  \n",
       "338     10  \n",
       "339     10  \n",
       "343     10  \n",
       "330     10  \n",
       "...    ...  \n",
       "4851    12  \n",
       "4837    12  \n",
       "4824    12  \n",
       "4888    12  \n",
       "4869    12  \n",
       "\n",
       "[4905 rows x 8 columns]"
      ]
     },
     "metadata": {},
     "output_type": "display_data"
    }
   ],
   "source": [
    "# Displaying data\n",
    "display(naomi)\n",
    "display(greta)"
   ]
  },
  {
   "cell_type": "code",
   "execution_count": 6,
   "metadata": {},
   "outputs": [
    {
     "data": {
      "text/plain": [
       "revision_id                 object\n",
       "timestamp      datetime64[ns, UTC]\n",
       "username                    object\n",
       "userid                      object\n",
       "comment                     object\n",
       "text_length                  int64\n",
       "year                        object\n",
       "month                       object\n",
       "dtype: object"
      ]
     },
     "execution_count": 6,
     "metadata": {},
     "output_type": "execute_result"
    }
   ],
   "source": [
    "# Check data types\n",
    "naomi.dtypes"
   ]
  },
  {
   "cell_type": "code",
   "execution_count": 7,
   "metadata": {},
   "outputs": [
    {
     "name": "stdout",
     "output_type": "stream",
     "text": [
      "(2426, 8)\n",
      "(4905, 8)\n"
     ]
    }
   ],
   "source": [
    "print(naomi.shape)\n",
    "print(greta.shape)"
   ]
  },
  {
   "cell_type": "markdown",
   "metadata": {},
   "source": [
    "# Adding year column to data"
   ]
  },
  {
   "cell_type": "code",
   "execution_count": 8,
   "metadata": {},
   "outputs": [],
   "source": [
    "# Filter data for year 2024 using timestamp column that has datetime data type\n",
    "naomi[\"year\"] = naomi[\"timestamp\"].dt.year\n",
    "greta[\"year\"] = greta[\"timestamp\"].dt.year"
   ]
  },
  {
   "cell_type": "markdown",
   "metadata": {},
   "source": [
    "# Plotting Edits and Editors by year "
   ]
  },
  {
   "cell_type": "code",
   "execution_count": 9,
   "metadata": {},
   "outputs": [],
   "source": [
    "# Variables \n",
    "\n",
    "# Plot count of edits per year\n",
    "naomi_counts = naomi.groupby(\"year\").size()\n",
    "greta_counts = greta.groupby(\"year\").size()\n",
    "\n",
    "# Plot count of unique editors per year\n",
    "naomi_unique_counts = naomi.groupby(\"year\")[\"username\"].nunique()\n",
    "greta_unique_counts = greta.groupby(\"year\")[\"username\"].nunique()"
   ]
  },
  {
   "cell_type": "code",
   "execution_count": 10,
   "metadata": {},
   "outputs": [
    {
     "data": {
      "image/png": "[encoded data removed]",
      "text/plain": [
       "<Figure size 1400x600 with 2 Axes>"
      ]
     },
     "metadata": {},
     "output_type": "display_data"
    }
   ],
   "source": [
    "# Plot count of users per year for Naomi Klein and Greta Thunberg on same plot\n",
    "fig, (ax1, ax2) = plt.subplots(1, 2, figsize=(14, 6))\n",
    "\n",
    "# Plot count of revisions per year\n",
    "naomi_counts.plot(kind='bar', ax=ax1, position=0, width=0.4, label=\"Naomi Klein\", color='blue')\n",
    "greta_counts.plot(kind='bar', ax=ax1, position=1, width=0.4, label=\"Greta Thunberg\", color='orange')\n",
    "\n",
    "ax1.set_xlabel(\"Year\")\n",
    "ax1.set_ylabel(\"Number of Revisions\")\n",
    "ax1.set_title(\"Number of Revisions per Year\")\n",
    "ax1.legend()\n",
    "\n",
    "naomi_unique_counts.plot(kind='bar', ax=ax2, position=0, width=0.4, label=\"Naomi Klein\", color='blue')\n",
    "greta_unique_counts.plot(kind='bar', ax=ax2, position=1, width=0.4, label=\"Greta Thunberg\", color='orange')\n",
    "\n",
    "ax2.set_xlabel(\"Year\")\n",
    "ax2.set_ylabel(\"Number of Editors\")\n",
    "ax2.set_title(\"Number of Editors per Year\")\n",
    "ax2.legend()\n",
    "\n",
    "plt.tight_layout()\n",
    "plt.show()\n"
   ]
  },
  {
   "cell_type": "markdown",
   "metadata": {},
   "source": [
    "# Usernames common to both Naomi Klein and Greta Thunberg"
   ]
  },
  {
   "cell_type": "code",
   "execution_count": 11,
   "metadata": {},
   "outputs": [
    {
     "data": {
      "text/html": [
       "<div>\n",
       "<style scoped>\n",
       "    .dataframe tbody tr th:only-of-type {\n",
       "        vertical-align: middle;\n",
       "    }\n",
       "\n",
       "    .dataframe tbody tr th {\n",
       "        vertical-align: top;\n",
       "    }\n",
       "\n",
       "    .dataframe thead th {\n",
       "        text-align: right;\n",
       "    }\n",
       "</style>\n",
       "<table border=\"1\" class=\"dataframe\">\n",
       "  <thead>\n",
       "    <tr style=\"text-align: right;\">\n",
       "      <th></th>\n",
       "      <th>username</th>\n",
       "    </tr>\n",
       "  </thead>\n",
       "  <tbody>\n",
       "    <tr>\n",
       "      <th>0</th>\n",
       "      <td>None</td>\n",
       "    </tr>\n",
       "    <tr>\n",
       "      <th>1</th>\n",
       "      <td>GreenC bot</td>\n",
       "    </tr>\n",
       "    <tr>\n",
       "      <th>2</th>\n",
       "      <td>Smasongarrison</td>\n",
       "    </tr>\n",
       "    <tr>\n",
       "      <th>3</th>\n",
       "      <td>Paul Erik</td>\n",
       "    </tr>\n",
       "    <tr>\n",
       "      <th>4</th>\n",
       "      <td>WikiCleanerBot</td>\n",
       "    </tr>\n",
       "    <tr>\n",
       "      <th>...</th>\n",
       "      <td>...</td>\n",
       "    </tr>\n",
       "    <tr>\n",
       "      <th>61</th>\n",
       "      <td>Alexius08</td>\n",
       "    </tr>\n",
       "    <tr>\n",
       "      <th>62</th>\n",
       "      <td>MER-C</td>\n",
       "    </tr>\n",
       "    <tr>\n",
       "      <th>63</th>\n",
       "      <td>The wub</td>\n",
       "    </tr>\n",
       "    <tr>\n",
       "      <th>64</th>\n",
       "      <td>Treybien</td>\n",
       "    </tr>\n",
       "    <tr>\n",
       "      <th>65</th>\n",
       "      <td>Liftarn</td>\n",
       "    </tr>\n",
       "  </tbody>\n",
       "</table>\n",
       "<p>66 rows × 1 columns</p>\n",
       "</div>"
      ],
      "text/plain": [
       "          username\n",
       "0             None\n",
       "1       GreenC bot\n",
       "2   Smasongarrison\n",
       "3        Paul Erik\n",
       "4   WikiCleanerBot\n",
       "..             ...\n",
       "61       Alexius08\n",
       "62           MER-C\n",
       "63         The wub\n",
       "64        Treybien\n",
       "65         Liftarn\n",
       "\n",
       "[66 rows x 1 columns]"
      ]
     },
     "metadata": {},
     "output_type": "display_data"
    },
    {
     "data": {
      "text/plain": [
       "username\n",
       "GreenC bot         1\n",
       "ClueBot NG         1\n",
       "C.J. Griffin       1\n",
       "BrownHairedGirl    1\n",
       "Sdkb               1\n",
       "                  ..\n",
       "X1\\                1\n",
       "Acroterion         1\n",
       "Gildsons           1\n",
       "J 1982             1\n",
       "Liftarn            1\n",
       "Name: count, Length: 65, dtype: int64"
      ]
     },
     "execution_count": 11,
     "metadata": {},
     "output_type": "execute_result"
    }
   ],
   "source": [
    "# Display usernames that are common in both dataframes\n",
    "naomi_unique = naomi.drop_duplicates(subset='username')\n",
    "greta_unique = greta.drop_duplicates(subset='username')\n",
    "common_users = pd.merge(naomi_unique['username'], greta_unique['username'], on=\"username\", how=\"inner\")\n",
    "\n",
    "display(common_users)\n",
    "common_users[\"username\"].value_counts()"
   ]
  },
  {
   "cell_type": "code",
   "execution_count": 12,
   "metadata": {},
   "outputs": [],
   "source": [
    "# create a new column in each dataframe to indicate whether the user is in common_users\n",
    "greta[\"common_user\"] = greta[\"username\"].isin(common_users[\"username\"])\n",
    "naomi[\"common_user\"] = naomi[\"username\"].isin(common_users[\"username\"])"
   ]
  },
  {
   "cell_type": "code",
   "execution_count": 13,
   "metadata": {},
   "outputs": [
    {
     "data": {
      "text/html": [
       "<div>\n",
       "<style scoped>\n",
       "    .dataframe tbody tr th:only-of-type {\n",
       "        vertical-align: middle;\n",
       "    }\n",
       "\n",
       "    .dataframe tbody tr th {\n",
       "        vertical-align: top;\n",
       "    }\n",
       "\n",
       "    .dataframe thead th {\n",
       "        text-align: right;\n",
       "    }\n",
       "</style>\n",
       "<table border=\"1\" class=\"dataframe\">\n",
       "  <thead>\n",
       "    <tr style=\"text-align: right;\">\n",
       "      <th></th>\n",
       "      <th>revision_id</th>\n",
       "      <th>timestamp</th>\n",
       "      <th>username</th>\n",
       "      <th>userid</th>\n",
       "      <th>comment</th>\n",
       "      <th>text_length</th>\n",
       "      <th>year</th>\n",
       "      <th>month</th>\n",
       "      <th>common_user</th>\n",
       "    </tr>\n",
       "  </thead>\n",
       "  <tbody>\n",
       "    <tr>\n",
       "      <th>197</th>\n",
       "      <td>1253256754</td>\n",
       "      <td>2024-10-25 02:32:43+00:00</td>\n",
       "      <td>Wellington Bay</td>\n",
       "      <td>43059617</td>\n",
       "      <td>None</td>\n",
       "      <td>75727</td>\n",
       "      <td>2024</td>\n",
       "      <td>10</td>\n",
       "      <td>False</td>\n",
       "    </tr>\n",
       "    <tr>\n",
       "      <th>196</th>\n",
       "      <td>1253256624</td>\n",
       "      <td>2024-10-25 02:31:43+00:00</td>\n",
       "      <td>Wellington Bay</td>\n",
       "      <td>43059617</td>\n",
       "      <td>/* Environmentalism */</td>\n",
       "      <td>75731</td>\n",
       "      <td>2024</td>\n",
       "      <td>10</td>\n",
       "      <td>False</td>\n",
       "    </tr>\n",
       "    <tr>\n",
       "      <th>201</th>\n",
       "      <td>1253256302</td>\n",
       "      <td>2024-10-25 02:29:23+00:00</td>\n",
       "      <td>Wellington Bay</td>\n",
       "      <td>43059617</td>\n",
       "      <td>None</td>\n",
       "      <td>75727</td>\n",
       "      <td>2024</td>\n",
       "      <td>10</td>\n",
       "      <td>False</td>\n",
       "    </tr>\n",
       "    <tr>\n",
       "      <th>202</th>\n",
       "      <td>1253255735</td>\n",
       "      <td>2024-10-25 02:25:01+00:00</td>\n",
       "      <td>Wellington Bay</td>\n",
       "      <td>43059617</td>\n",
       "      <td>None</td>\n",
       "      <td>75727</td>\n",
       "      <td>2024</td>\n",
       "      <td>10</td>\n",
       "      <td>False</td>\n",
       "    </tr>\n",
       "    <tr>\n",
       "      <th>199</th>\n",
       "      <td>1253255606</td>\n",
       "      <td>2024-10-25 02:24:13+00:00</td>\n",
       "      <td>Wellington Bay</td>\n",
       "      <td>43059617</td>\n",
       "      <td>Parents</td>\n",
       "      <td>75724</td>\n",
       "      <td>2024</td>\n",
       "      <td>10</td>\n",
       "      <td>False</td>\n",
       "    </tr>\n",
       "  </tbody>\n",
       "</table>\n",
       "</div>"
      ],
      "text/plain": [
       "    revision_id                 timestamp        username    userid  \\\n",
       "197  1253256754 2024-10-25 02:32:43+00:00  Wellington Bay  43059617   \n",
       "196  1253256624 2024-10-25 02:31:43+00:00  Wellington Bay  43059617   \n",
       "201  1253256302 2024-10-25 02:29:23+00:00  Wellington Bay  43059617   \n",
       "202  1253255735 2024-10-25 02:25:01+00:00  Wellington Bay  43059617   \n",
       "199  1253255606 2024-10-25 02:24:13+00:00  Wellington Bay  43059617   \n",
       "\n",
       "                    comment  text_length  year month  common_user  \n",
       "197                    None        75727  2024    10        False  \n",
       "196  /* Environmentalism */        75731  2024    10        False  \n",
       "201                    None        75727  2024    10        False  \n",
       "202                    None        75727  2024    10        False  \n",
       "199                 Parents        75724  2024    10        False  "
      ]
     },
     "execution_count": 13,
     "metadata": {},
     "output_type": "execute_result"
    }
   ],
   "source": [
    "greta.head()\n",
    "naomi.head()"
   ]
  },
  {
   "cell_type": "code",
   "execution_count": 14,
   "metadata": {},
   "outputs": [
    {
     "name": "stdout",
     "output_type": "stream",
     "text": [
      "800\n",
      "913\n"
     ]
    }
   ],
   "source": [
    "# sum of common_user column in each dataframe\n",
    "print(greta[\"common_user\"].sum())\n",
    "print(naomi[\"common_user\"].sum())"
   ]
  },
  {
   "cell_type": "markdown",
   "metadata": {},
   "source": [
    "# Plotting number of edits and number of editors with common usernames"
   ]
  },
  {
   "cell_type": "code",
   "execution_count": 15,
   "metadata": {},
   "outputs": [
    {
     "data": {
      "image/png": "[encoded data removed]",
      "text/plain": [
       "<Figure size 1400x600 with 2 Axes>"
      ]
     },
     "metadata": {},
     "output_type": "display_data"
    }
   ],
   "source": [
    "# Calculate counts and unique counts\n",
    "naomi_counts = naomi.groupby(\"year\").size()\n",
    "greta_counts = greta.groupby(\"year\").size()\n",
    "\n",
    "naomi_user_counts = naomi.groupby(\"year\")[\"username\"].nunique()\n",
    "greta_user_counts = greta.groupby(\"year\")[\"username\"].nunique()\n",
    "\n",
    "# Highlight common users\n",
    "naomi_common_counts = naomi[naomi[\"common_user\"]].groupby(\"year\").size()\n",
    "greta_common_counts = greta[greta[\"common_user\"]].groupby(\"year\").size()\n",
    "\n",
    "naomi_common_user_counts = naomi[naomi[\"common_user\"]].groupby(\"year\")[\"username\"].nunique()\n",
    "greta_common_user_counts = greta[greta[\"common_user\"]].groupby(\"year\")[\"username\"].nunique()\n",
    "\n",
    "# Create subplots\n",
    "fig, (ax1, ax2) = plt.subplots(1, 2, figsize=(14, 6))\n",
    "\n",
    "# Plot count of users per year for Naomi Klein and Greta Thunberg on the first subplot\n",
    "naomi_user_counts.plot(kind='line', ax=ax1, label=\"Naomi Klein\", color='blue')\n",
    "greta_user_counts.plot(kind='line', ax=ax1, label=\"Greta Thunberg\", color='orange')\n",
    "naomi_common_user_counts.plot(kind='line', ax=ax1, label=\"Common Users (Naomi Klein)\", color='blue', linestyle='--')\n",
    "greta_common_user_counts.plot(kind='line', ax=ax1, label=\"Common Users (Greta Thunberg)\", color='orange', linestyle='--')\n",
    "\n",
    "ax1.set_xlabel(\"Year\")\n",
    "ax1.set_ylabel(\"Number of Editors\")\n",
    "ax1.set_title(\"Number of Editors per Year\")\n",
    "ax1.legend()\n",
    "\n",
    "# Plot count of revisions per year for Naomi Klein and Greta Thunberg on the second subplot\n",
    "naomi_counts.plot(kind='line', ax=ax2, label=\"Naomi Klein\", color='blue')\n",
    "greta_counts.plot(kind='line', ax=ax2, label=\"Greta Thunberg\", color='orange')\n",
    "naomi_common_counts.plot(kind='line', ax=ax2, label=\"Common Users (Naomi Klein)\", color='blue', linestyle='--')\n",
    "greta_common_counts.plot(kind='line', ax=ax2, label=\"Common Users (Greta Thunberg)\", color='orange', linestyle='--')\n",
    "\n",
    "ax2.set_xlabel(\"Year\")\n",
    "ax2.set_ylabel(\"Number of Revisions\")\n",
    "ax2.set_title(\"Number of Revisions per Year\")\n",
    "ax2.legend()\n",
    "\n",
    "plt.tight_layout()\n",
    "plt.show()\n"
   ]
  },
  {
   "cell_type": "markdown",
   "metadata": {},
   "source": [
    "# Bots"
   ]
  },
  {
   "cell_type": "code",
   "execution_count": 16,
   "metadata": {},
   "outputs": [
    {
     "data": {
      "text/plain": [
       "bot\n",
       "False    51\n",
       "True     15\n",
       "Name: count, dtype: int64"
      ]
     },
     "execution_count": 16,
     "metadata": {},
     "output_type": "execute_result"
    }
   ],
   "source": [
    "# Calculate number of common users that are also bots\n",
    "common_users[\"bot\"] = common_users[\"username\"].str.contains(\"bot\", case=False, na=False)\n",
    "common_users[\"bot\"].value_counts()"
   ]
  },
  {
   "cell_type": "code",
   "execution_count": 19,
   "metadata": {},
   "outputs": [
    {
     "name": "stdout",
     "output_type": "stream",
     "text": [
      "66\n",
      "0.22727272727272727\n"
     ]
    }
   ],
   "source": [
    "# calculate percentage of common users that are bots\n",
    "print(common_users.shape[0])\n",
    "print(common_users[\"bot\"].mean())"
   ]
  },
  {
   "cell_type": "markdown",
   "metadata": {},
   "source": [
    "# User ID vs username"
   ]
  },
  {
   "cell_type": "code",
   "execution_count": 21,
   "metadata": {},
   "outputs": [
    {
     "name": "stdout",
     "output_type": "stream",
     "text": [
      "674\n",
      "674\n",
      "1072\n",
      "1072\n"
     ]
    }
   ],
   "source": [
    "# Check if number of unique usernames matches unique userids in both dataframes\n",
    "print(naomi[\"username\"].nunique())\n",
    "print(naomi[\"userid\"].nunique())\n",
    "print(greta[\"username\"].nunique())\n",
    "print(greta[\"userid\"].nunique())"
   ]
  }
 ],
 "metadata": {
  "kernelspec": {
   "display_name": ".venv",
   "language": "python",
   "name": "python3"
  },
  "language_info": {
   "codemirror_mode": {
    "name": "ipython",
    "version": 3
   },
   "file_extension": ".py",
   "mimetype": "text/x-python",
   "name": "python",
   "nbconvert_exporter": "python",
   "pygments_lexer": "ipython3",
   "version": "3.11.7"
  }
 },
 "nbformat": 4,
 "nbformat_minor": 2
}
