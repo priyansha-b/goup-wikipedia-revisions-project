{
 "cells": [
  {
   "cell_type": "code",
   "execution_count": 9,
   "metadata": {},
   "outputs": [],
   "source": [
    "# Import datasets\n",
    "\n",
    "import pandas as pd\n",
    "import numpy as np\n",
    "from pathlib import Path\n",
    "import get_reversions as gr\n",
    "\n",
    "# Define the path\n",
    "\n",
    "path_dataset = Path().cwd().parent / 'oii-fsds-wikipedia-main' / 'DataFrames'\n",
    "\n",
    "# Import both datasets\n",
    "\n",
    "greta = pd.read_feather(path_dataset / 'Greta Thunberg.feather')\n",
    "naomi = pd.read_feather(path_dataset / 'Naomi Klein.feather')\n",
    "\n",
    "# Add a new column to each DataFrame to indicate the source\n",
    "greta['environmentalist'] = 'Greta Thunberg'\n",
    "naomi['environmentalist'] = 'Naomi Klein'\n",
    "\n",
    "# Merge both\n",
    "compared = pd.concat([greta, naomi], axis=0, ignore_index=True)\n"
   ]
  },
  {
   "cell_type": "code",
   "execution_count": 11,
   "metadata": {},
   "outputs": [
    {
     "name": "stderr",
     "output_type": "stream",
     "text": [
      "/Users/chicokerche/Library/CloudStorage/OneDrive-Pessoal/10_Oxford/Classes/MT/Fundamental_python/week_2/goup-wikipedia-revisions-project/analysis/get_reversions.py:13: UserWarning: This pattern is interpreted as a regular expression, and has match groups. To actually get the groups, use str.extract.\n",
      "  reversions = df[df['comment'].str.lower().str.contains('(revert(ed)?|undid)', regex=True, na=False)].copy()\n"
     ]
    }
   ],
   "source": [
    "reversion = gr.get_revisions(compared)"
   ]
  }
 ],
 "metadata": {
  "kernelspec": {
   "display_name": ".venv",
   "language": "python",
   "name": "python3"
  },
  "language_info": {
   "codemirror_mode": {
    "name": "ipython",
    "version": 3
   },
   "file_extension": ".py",
   "mimetype": "text/x-python",
   "name": "python",
   "nbconvert_exporter": "python",
   "pygments_lexer": "ipython3",
   "version": "3.12.4"
  }
 },
 "nbformat": 4,
 "nbformat_minor": 2
}
